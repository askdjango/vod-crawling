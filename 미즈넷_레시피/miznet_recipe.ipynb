{
 "cells": [
  {
   "cell_type": "code",
   "execution_count": 1,
   "metadata": {
    "collapsed": true
   },
   "outputs": [],
   "source": [
    "from bs4 import BeautifulSoup\n",
    "import requests\n",
    "from urllib.parse import urljoin"
   ]
  },
  {
   "cell_type": "code",
   "execution_count": 2,
   "metadata": {
    "collapsed": true
   },
   "outputs": [],
   "source": [
    "list_url = \"http://board.miznet.daum.net/gaia/do/cook/recipe/mizr/\""
   ]
  },
  {
   "cell_type": "code",
   "execution_count": 3,
   "metadata": {
    "collapsed": true
   },
   "outputs": [],
   "source": [
    "html = requests.get(list_url).text"
   ]
  },
  {
   "cell_type": "code",
   "execution_count": 4,
   "metadata": {
    "collapsed": true
   },
   "outputs": [],
   "source": [
    "soup = BeautifulSoup(html, 'html.parser')"
   ]
  },
  {
   "cell_type": "code",
   "execution_count": 5,
   "metadata": {
    "collapsed": true
   },
   "outputs": [],
   "source": [
    "menu_list = []\n",
    "\n",
    "for tag in soup.select(\"#page_body > div.body_center > form > ul > li\"):\n",
    "    a_tag = tag.select('div p a')[0]\n",
    "    name = a_tag.text\n",
    "    detail_url = urljoin(list_url, a_tag['href'])\n",
    "    img_url = tag.select('a img')[0]['src'].strip()\n",
    "    menu_list.append([name, detail_url, img_url])"
   ]
  },
  {
   "cell_type": "code",
   "execution_count": 6,
   "metadata": {},
   "outputs": [
    {
     "data": {
      "text/plain": [
       "[['aaaaa',\n",
       "  'http://board.miznet.daum.net/gaia/do/cook/recipe/mizr/read?articleId=75988&bbsId=MC001&pageIndex=1',\n",
       "  'http://t1.daumcdn.net/thumb/C115x85/?fname=http%3A%2F%2Fi1.daumcdn.net%2Fimg-contents%2Fmiznet9%2F2008_home%2Fmizcook%2Fcommon%2Fnoimg_01.gif'],\n",
       " ['파프리카달걀말이',\n",
       "  'http://board.miznet.daum.net/gaia/do/cook/recipe/mizr/read?articleId=75951&bbsId=MC001&pageIndex=1',\n",
       "  'http://t1.daumcdn.net/thumb/C115x85/?fname=http%3A%2F%2Fm1.daumcdn.net%2Fcfile62%2Fattach%2F22546B4059151AC304BACA'],\n",
       " ['냉장고 재료로 폼나게~딸이 만족한 도시락',\n",
       "  'http://board.miznet.daum.net/gaia/do/cook/recipe/mizr/read?articleId=75949&bbsId=MC001&pageIndex=1',\n",
       "  'http://t1.daumcdn.net/thumb/C115x85/?fname=http%3A%2F%2Fm1.daumcdn.net%2Fcfile165%2Fattach%2F240F2C43591506F804D1CA'],\n",
       " ['쌉싸름한 개망초나물무침 입맛살려주네요~',\n",
       "  'http://board.miznet.daum.net/gaia/do/cook/recipe/mizr/read?articleId=75948&bbsId=MC001&pageIndex=1',\n",
       "  'http://t1.daumcdn.net/thumb/C115x85/?fname=http%3A%2F%2Fm1.daumcdn.net%2Fcfile64%2Fattach%2F2217DB4359150398016DB7'],\n",
       " ['아들 여친 집밥 접대기(베란다 레스토랑)',\n",
       "  'http://board.miznet.daum.net/gaia/do/cook/recipe/mizr/read?articleId=75947&bbsId=MC001&pageIndex=1',\n",
       "  'http://t1.daumcdn.net/thumb/C115x85/?fname=http%3A%2F%2Fm1.daumcdn.net%2Fcfile65%2Fattach%2F213667365915009426BF4B'],\n",
       " ['왕새우 쉽게 까는법',\n",
       "  'http://board.miznet.daum.net/gaia/do/cook/recipe/mizr/read?articleId=75946&bbsId=MC001&pageIndex=1',\n",
       "  'http://t1.daumcdn.net/thumb/C115x85/?fname=http%3A%2F%2Fm1.daumcdn.net%2Fcfile164%2Fattach%2F231AE5495914FB370B324C'],\n",
       " ['[아귀수육] 맛있는 아귀수육 만드는 법',\n",
       "  'http://board.miznet.daum.net/gaia/do/cook/recipe/mizr/read?articleId=75945&bbsId=MC001&pageIndex=1',\n",
       "  'http://t1.daumcdn.net/thumb/C115x85/?fname=http%3A%2F%2Fm1.daumcdn.net%2Fcfile65%2Fattach%2F270CED3F5914F7260E7861'],\n",
       " ['오랜만에 집에 온 아이들을 위한 식탁',\n",
       "  'http://board.miznet.daum.net/gaia/do/cook/recipe/mizr/read?articleId=75944&bbsId=MC001&pageIndex=1',\n",
       "  'http://t1.daumcdn.net/thumb/C115x85/?fname=http%3A%2F%2Fm1.daumcdn.net%2Fcfile65%2Fattach%2F23081D355914AD091649C6'],\n",
       " ['특별한 날, 특별한 사람을 위한 간편 오븐요리',\n",
       "  'http://board.miznet.daum.net/gaia/do/cook/recipe/mizr/read?articleId=75943&bbsId=MC001&pageIndex=1',\n",
       "  'http://t1.daumcdn.net/thumb/C115x85/?fname=http%3A%2F%2Fm1.daumcdn.net%2Fcfile61%2Fattach%2F25574D3659144E732ACFFE'],\n",
       " ['절임없이담그는 엄마표오이소박이',\n",
       "  'http://board.miznet.daum.net/gaia/do/cook/recipe/mizr/read?articleId=75942&bbsId=MC001&pageIndex=1',\n",
       "  'http://t1.daumcdn.net/thumb/C115x85/?fname=http%3A%2F%2Fm1.daumcdn.net%2Fcfile163%2Fattach%2F21033A3359143EAB251874'],\n",
       " ['넘나 꿀맛인 대한민국 대표 간식~ 라볶이 만들기!!',\n",
       "  'http://board.miznet.daum.net/gaia/do/cook/recipe/mizr/read?articleId=75939&bbsId=MC001&pageIndex=1',\n",
       "  'http://t1.daumcdn.net/thumb/C115x85/?fname=http%3A%2F%2Fm1.daumcdn.net%2Fcfile165%2Fattach%2F2751463D5914319E346502'],\n",
       " ['[밥타임] 완료기 이유식 - 조개수프, 클램차우더',\n",
       "  'http://board.miznet.daum.net/gaia/do/cook/recipe/mizr/read?articleId=75936&bbsId=MC001&pageIndex=1',\n",
       "  'http://t1.daumcdn.net/thumb/C115x85/?fname=http%3A%2F%2Fm1.daumcdn.net%2Fcfile165%2Fattach%2F26216F345913CFE5211BCC'],\n",
       " ['간단레시피 머위장아찌 쌉싸름하니 입맛살려주네요',\n",
       "  'http://board.miznet.daum.net/gaia/do/cook/recipe/mizr/read?articleId=75935&bbsId=MC001&pageIndex=1',\n",
       "  'http://t1.daumcdn.net/thumb/C115x85/?fname=http%3A%2F%2Fm1.daumcdn.net%2Fcfile163%2Fattach%2F2575C8365913AB3D0F594D'],\n",
       " ['몸보신, 객지 생활하는 아이들을 위한 장어국',\n",
       "  'http://board.miznet.daum.net/gaia/do/cook/recipe/mizr/read?articleId=75934&bbsId=MC001&pageIndex=1',\n",
       "  'http://t1.daumcdn.net/thumb/C115x85/?fname=http%3A%2F%2Fm1.daumcdn.net%2Fcfile63%2Fattach%2F2776E9475913678F23439B'],\n",
       " ['케일쌈밥~~ 건강해지는 맛 !',\n",
       "  'http://board.miznet.daum.net/gaia/do/cook/recipe/mizr/read?articleId=75933&bbsId=MC001&pageIndex=1',\n",
       "  'http://t1.daumcdn.net/thumb/C115x85/?fname=http%3A%2F%2Fm1.daumcdn.net%2Fcfile61%2Fattach%2F2624E13559130F4D05BCCB']]"
      ]
     },
     "execution_count": 6,
     "metadata": {},
     "output_type": "execute_result"
    }
   ],
   "source": [
    "menu_list"
   ]
  },
  {
   "cell_type": "code",
   "execution_count": 7,
   "metadata": {},
   "outputs": [
    {
     "name": "stdout",
     "output_type": "stream",
     "text": [
      "aaaaa\n",
      "파프리카달걀말이\n",
      "냉장고 재료로 폼나게~딸이 만족한 도시락\n",
      "쌉싸름한 개망초나물무침 입맛살려주네요~\n",
      "아들 여친 집밥 접대기(베란다 레스토랑)\n",
      "왕새우 쉽게 까는법\n",
      "[아귀수육] 맛있는 아귀수육 만드는 법\n",
      "오랜만에 집에 온 아이들을 위한 식탁\n",
      "특별한 날, 특별한 사람을 위한 간편 오븐요리\n",
      "절임없이담그는 엄마표오이소박이\n",
      "넘나 꿀맛인 대한민국 대표 간식~ 라볶이 만들기!!\n",
      "[밥타임] 완료기 이유식 - 조개수프, 클램차우더\n",
      "간단레시피 머위장아찌 쌉싸름하니 입맛살려주네요\n",
      "몸보신, 객지 생활하는 아이들을 위한 장어국\n",
      "케일쌈밥~~ 건강해지는 맛 !\n"
     ]
    }
   ],
   "source": [
    "for (name, detail_url, img_url) in menu_list:\n",
    "    print(name)"
   ]
  },
  {
   "cell_type": "code",
   "execution_count": null,
   "metadata": {
    "collapsed": true
   },
   "outputs": [],
   "source": []
  }
 ],
 "metadata": {
  "kernelspec": {
   "display_name": "Django Shell-Plus",
   "language": "python",
   "name": "django_extensions"
  },
  "language_info": {
   "codemirror_mode": {
    "name": "ipython",
    "version": 3
   },
   "file_extension": ".py",
   "mimetype": "text/x-python",
   "name": "python",
   "nbconvert_exporter": "python",
   "pygments_lexer": "ipython3",
   "version": "3.5.2"
  }
 },
 "nbformat": 4,
 "nbformat_minor": 2
}
